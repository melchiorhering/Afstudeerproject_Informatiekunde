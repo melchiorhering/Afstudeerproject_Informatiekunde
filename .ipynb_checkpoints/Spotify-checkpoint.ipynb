{
 "cells": [
  {
   "cell_type": "markdown",
   "metadata": {},
   "source": [
    "# Afstudeerproject\n",
    "---\n",
    "\n",
    "In deze opdracht wordt er aandacht besteed aan de onderzoeksvraag. Waarschijnlijk heb je al een idee over deze onderzoeksvraag. In de coachsessie is aan bod gekomen op welke manier de onderzoeksvraag geformuleerd kan worden. Beantwoord de volgende vragen:\n",
    "\n",
    "1. **Wat is je onderzoeksvraag?**\n",
    "\n",
    "\n",
    "    1. In welke mate is mogelijk om het de karakteristieken van populaire muziek te voorspellen aan de hand van het jaar en seizoen?\n",
    "    \n",
    "    2. (Is het mogelijk om Spotify gebruikers te classificeren naar festival/concert aan de hand van hun playlists en muziek die ze luisteren?)\n",
    "    \n",
    "    \n",
    "    \n",
    "2. Op welke manier vult deze vraag de onderzoeks’kloof’(zoals besproken in het eerste deel van deze sessie).\n",
    "    \n",
    "    \n",
    "3. **Wat zijn je subvragen die je onderzoeksvraag helpen verduidelijken in de beantwoording? (Ga na uit welke elementen je onderzoeksvraag bestaat, welke andere vragenmoet je hiervoor beantwoorden)**\n",
    "\n",
    "    \n",
    "    1. Wat zijn de karakteristieken van populaire muziek per seizoen?\n",
    "        - Hier kijken we naar track features (de sound van de tracks) die Spotify aanbied\n",
    "        - Lyrics van tracks\n",
    "\n",
    "\n",
    "    2. Wat zijn de verschillen in karakteristieken per jaar en seizoen?\n",
    "        - Zijn er verschillen tussen de tracks van 5 jaar terug en nu?\n",
    "        - En zijn er verschillen tussen seizoenen?\n",
    "        \n",
    "    3. Is er een trend zichtbaar als er word gekeken naar jaar en seizoen?\n",
    "        - Zijn er trends te ontdekken in lyrics of stijlen van populaire tracks?\n",
    "        \n",
    "        \n",
    "    4. Is het sentiment van een jaar en/of seizoen te bepalen aan de hand van muziek?\n",
    "        - Is het mogelijk om aan de hand van karakteristieken van tracks het sentiment van een jaar/seizoen te classificeren?\n",
    "    \n",
    "    \n",
    "4. **Hoe ben je van plan je onderzoeksvraag te beantwoorden?**\n",
    "\n",
    "\n",
    "    1. Door het analyseren van muziek, voornamelijk middels de Spotify API en verschillende muziek analyserende libraries\n",
    "    2. Het analyseren van de meest populaire muziek per seizoen door de jaren heen\n",
    "        - Door track features en lyrics te analyseren\n",
    "    3. Door een predictiemodel te ontwikkelen en de scores van dit model te vergelijken met historische data\n",
    "    \n",
    "    \n",
    "5. Waarom kies je voor deze opzet?\n",
    "    \n",
    "    \n",
    "6. Hoe sterk vind je je onderzoeksvraag? Is de vraag duidelijk en specifiek genoeg?"
   ]
  },
  {
   "cell_type": "markdown",
   "metadata": {},
   "source": [
    "## Resources"
   ]
  },
  {
   "cell_type": "markdown",
   "metadata": {},
   "source": [
    "### Artikelen"
   ]
  },
  {
   "cell_type": "markdown",
   "metadata": {},
   "source": []
  },
  {
   "cell_type": "markdown",
   "metadata": {},
   "source": [
    "### Libraries"
   ]
  },
  {
   "cell_type": "markdown",
   "metadata": {},
   "source": [
    "> __`impor spotipy`:__ _Spotipy is a lightweight Python library for the Spotify Web API. With Spotipy you get full access to all of the music data provided by the Spotify platform._\n",
    "\n",
    "> __`import librosa`:__ _Librosa is a python package for music and audio analysis. It provides the building blocks necessary to create music information retrieval systems._\n",
    "\n",
    ">__`import amen`:__\n",
    "    _A toolbox for algorithmic remixing, after Echo Nest Remix._\n",
    "\n",
    ">__`import numpy`:__\n",
    "_NumPy is the fundamental package for scientific computing in Python. It is a Python library that provides a multidimensional array object, various derived objects (such as masked arrays and matrices), and an assortment of routines for fast operations on arrays, including mathematical, logical, shape manipulation, sorting, selecting, I/O, discrete Fourier transforms, basic linear algebra, basic statistical operations, random simulation and much more._\n",
    "\n",
    ">__`import pandas`:__ _Pandas is an open source, BSD-licensed library providing high-performance, easy-to-use data structures and data analysis tools for the Python programming language._\n",
    "\n",
    ">__`import scikit-learn`:__ _Scikit-learn (formerly scikits.learn and also known as sklearn) is a free software machine learning library for the Python programming language._\n",
    "\n",
    "\n"
   ]
  },
  {
   "cell_type": "code",
   "execution_count": 18,
   "metadata": {},
   "outputs": [],
   "source": [
    "import spotipy\n",
    "import librosa\n",
    "import amen\n",
    "import numpy\n",
    "import pandas\n",
    "import sklearn"
   ]
  },
  {
   "cell_type": "markdown",
   "metadata": {},
   "source": [
    "### Data Mining"
   ]
  },
  {
   "cell_type": "code",
   "execution_count": 19,
   "metadata": {},
   "outputs": [
    {
     "name": "stdout",
     "output_type": "stream",
     "text": [
      "env: SPOTIPY_CLIENT_ID='0b9f49caa8a1422cb20b0204e7fc9bdd'\n",
      "env: SPOTIPY_CLIENT_SECRET='5caaed77ac534c7cabc3e94e8da916c8'\n",
      "env: SPOTIPY_REDIRECT_URI='http://localhost/'\n"
     ]
    }
   ],
   "source": [
    "%env SPOTIPY_CLIENT_ID= '0b9f49caa8a1422cb20b0204e7fc9bdd'\n",
    "%env SPOTIPY_CLIENT_SECRET='5caaed77ac534c7cabc3e94e8da916c8'\n",
    "%env SPOTIPY_REDIRECT_URI='http://localhost/'"
   ]
  },
  {
   "cell_type": "code",
   "execution_count": null,
   "metadata": {},
   "outputs": [
    {
     "name": "stderr",
     "output_type": "stream",
     "text": [
      "INFO:spotipy.oauth2:User authentication requires interaction with your web browser. Once you enter your credentials and give authorization, you will be redirected to a url.  Paste that url you were directed to to complete the authorization.\n",
      "INFO:spotipy.oauth2:Opened https://accounts.spotify.com/authorize?client_id=0b9f49caa8a1422cb20b0204e7fc9bdd&response_type=code&redirect_uri=http%3A%2F%2Flocalhost%3A9999%2Fcallback&scope=user-read-recently-played in your browser\n"
     ]
    }
   ],
   "source": [
    "import spotipy.util as util\n",
    "\n",
    "username = '115697403'\n",
    "client_id ='0b9f49caa8a1422cb20b0204e7fc9bdd'\n",
    "client_secret = '5caaed77ac534c7cabc3e94e8da916c8'\n",
    "redirect_uri = 'http://localhost:9999/callback'\n",
    "scope = 'user-read-recently-played'\n",
    "\n",
    "token = util.prompt_for_user_token(username=username, \n",
    "                                   scope=scope, \n",
    "                                   client_id=client_id,   \n",
    "                                   client_secret=client_secret,     \n",
    "                                   redirect_uri=redirect_uri)"
   ]
  },
  {
   "cell_type": "code",
   "execution_count": null,
   "metadata": {},
   "outputs": [],
   "source": [
    "print(token)"
   ]
  }
 ],
 "metadata": {
  "kernelspec": {
   "display_name": "Python 3",
   "language": "python",
   "name": "python3"
  },
  "language_info": {
   "codemirror_mode": {
    "name": "ipython",
    "version": 3
   },
   "file_extension": ".py",
   "mimetype": "text/x-python",
   "name": "python",
   "nbconvert_exporter": "python",
   "pygments_lexer": "ipython3",
   "version": "3.7.7"
  }
 },
 "nbformat": 4,
 "nbformat_minor": 4
}
