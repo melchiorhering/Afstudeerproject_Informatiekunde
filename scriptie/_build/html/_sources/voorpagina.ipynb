{
 "cells": [
  {
   "cell_type": "markdown",
   "id": "listed-treasury",
   "metadata": {},
   "source": [
    "Voorpagina\n",
    "======================="
   ]
  },
  {
   "cell_type": "code",
   "execution_count": 17,
   "id": "stupid-mercury",
   "metadata": {},
   "outputs": [
    {
     "data": {
      "text/plain": [
       "'/mnt/c/Users/stijn/OneDrive/Bureaublad/Afstudeerproject/afstudeerproject_repo/scriptie'"
      ]
     },
     "execution_count": 17,
     "metadata": {},
     "output_type": "execute_result"
    }
   ],
   "source": [
    "import os\n",
    "import pandas as pd\n",
    "import numpy as np\n",
    "import plotly.express as px\n",
    "\n",
    "os.getcwd()\n",
    "\n",
    "# !wget  https://www.rijkswaterstaat.nl/apps/geoservices/geodata/dmc/bron/01-01-2010_31-12-2019.zip  "
   ]
  },
  {
   "cell_type": "markdown",
   "id": "postal-reduction",
   "metadata": {},
   "source": [
    "````{margin}\n",
    "```{note}\n",
    "Here is a note!\n",
    "```\n",
    "````"
   ]
  },
  {
   "cell_type": "code",
   "execution_count": 10,
   "id": "bottom-calcium",
   "metadata": {},
   "outputs": [],
   "source": [
    "# puntlocatie = pd.read_csv('/Afstudeerproject/Data/01-01-2010_31-12-2019 (BRON)/PGS0112-o-CSV-bestand-J-1-N-J-N/Netwerkgegevens/puntlocaties.txt')"
   ]
  },
  {
   "cell_type": "code",
   "execution_count": 13,
   "id": "effective-anxiety",
   "metadata": {},
   "outputs": [],
   "source": [
    "# puntlocatie"
   ]
  },
  {
   "cell_type": "code",
   "execution_count": 11,
   "id": "exact-bishop",
   "metadata": {},
   "outputs": [],
   "source": [
    "# # usecols=['WVK_BEGDAT', 'FK_VELD5', 'KLOK_BEG', 'KLOK_END']\n",
    "# wegvakken = pd.read_csv('Verkeersongevallen/01-01-2010_31-12-2019/PGS0112-o-CSV-bestand-J-1-N-J-N/Netwerkgegevens/wegvakken.txt')\n",
    "\n",
    "# wegvakken.columns"
   ]
  },
  {
   "cell_type": "code",
   "execution_count": 15,
   "id": "floppy-court",
   "metadata": {},
   "outputs": [],
   "source": [
    "# ongevallen = pd.read_csv('Verkeersongevallen/01-01-2010_31-12-2019/PGS0112-o-CSV-bestand-J-1-N-J-N/Ongevallengegevens/ongevallen.txt')\n",
    "# display(ongevallen.shape)\n",
    "# display(ongevallen.columns)\n",
    "# ongevallen.head()"
   ]
  }
 ],
 "metadata": {
  "kernelspec": {
   "display_name": "Python 3",
   "language": "python",
   "name": "python3"
  },
  "language_info": {
   "codemirror_mode": {
    "name": "ipython",
    "version": 3
   },
   "file_extension": ".py",
   "mimetype": "text/x-python",
   "name": "python",
   "nbconvert_exporter": "python",
   "pygments_lexer": "ipython3",
   "version": "3.7.7"
  }
 },
 "nbformat": 4,
 "nbformat_minor": 5
}
