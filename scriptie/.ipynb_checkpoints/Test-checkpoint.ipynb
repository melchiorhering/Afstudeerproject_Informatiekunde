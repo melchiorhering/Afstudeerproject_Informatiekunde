{
 "cells": [
  {
   "cell_type": "code",
   "execution_count": null,
   "id": "cdf9e657",
   "metadata": {},
   "outputs": [],
   "source": [
    "# # # invert z idx values\n",
    "# z = z.values[::-1]\n",
    "\n",
    "# y = list(report.columns)[::-1]\n",
    "# x = list(report.index)[:-1]\n",
    "# # y =  list(report.index) # invert idx values of x\n",
    "\n",
    "# # # # change each element of z to type string for annotations\n",
    "# # # z_text = [[str(y) for y in x] for x in z]\n",
    "\n",
    "# # # # set up figure \n",
    "# fig = ff.create_annotated_heatmap(z, x=x, y=y, colorscale='RdBu', showscale=True)\n",
    "\n",
    "# fig.update_layout(\n",
    "#     font_family=\"Cambria\",\n",
    "#     title_text= 'Classification Report',\n",
    "#     title_font_size =25,\n",
    "#     title_font_family=\"Cambria\",\n",
    "#     title_x=0.53)\n",
    "\n",
    "# # add custom xaxis title\n",
    "# fig.add_annotation(dict(font=dict(color=\"black\",size=14),x=0.5,\n",
    "#                         y=-0.15,\n",
    "#                         showarrow=False,\n",
    "#                         text=\"\",\n",
    "#                         xref=\"paper\",\n",
    "#                         yref=\"paper\"))\n",
    "\n",
    "# # # add custom yaxis title\n",
    "# fig.add_annotation(dict(font=dict(color=\"black\",size=14),\n",
    "#                         x=-0.35,\n",
    "#                         y=0.5,\n",
    "#                         showarrow=False,\n",
    "#                         text=\"Real value\",\n",
    "#                         textangle=-90,\n",
    "#                         xref=\"paper\",\n",
    "#                         yref=\"paper\"))\n",
    "\n",
    "# # # adjust margins to make room for yaxis title\n",
    "# fig.update_layout(margin=dict(t=50, l=200))\n",
    "\n",
    "# # # add colorbar\n",
    "# # fig['data'][0]['showscale'] = True\n",
    "# fig.show()"
   ]
  }
 ],
 "metadata": {
  "kernelspec": {
   "display_name": "Python 3",
   "language": "python",
   "name": "python3"
  },
  "language_info": {
   "codemirror_mode": {
    "name": "ipython",
    "version": 3
   },
   "file_extension": ".py",
   "mimetype": "text/x-python",
   "name": "python",
   "nbconvert_exporter": "python",
   "pygments_lexer": "ipython3",
   "version": "3.7.10"
  }
 },
 "nbformat": 4,
 "nbformat_minor": 5
}
