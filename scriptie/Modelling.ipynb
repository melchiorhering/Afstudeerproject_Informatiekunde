{
 "cells": [
  {
   "cell_type": "markdown",
   "id": "f2475ed4",
   "metadata": {},
   "source": [
    "# Modelling: Creating a Pipeline"
   ]
  },
  {
   "cell_type": "code",
   "execution_count": null,
   "id": "37741839",
   "metadata": {},
   "outputs": [],
   "source": [
    "import xgboost as xgb\n",
    "from sklearn.preprocessing import LabelEncoder, OrdinalEncoder, OneHotEncoder\n",
    "from sklearn.ensemble import RandomForestClassifier\n",
    "from sklearn.impute import SimpleImputer\n",
    "from sklearn.inspection import permutation_importance\n",
    "from sklearn.compose import ColumnTransformer\n",
    "from sklearn.model_selection import train_test_split\n",
    "from sklearn.pipeline import Pipeline\n",
    "from sklearn.feature_selection import SelectKBest, chi2"
   ]
  },
  {
   "cell_type": "code",
   "execution_count": null,
   "id": "2b31d156",
   "metadata": {},
   "outputs": [],
   "source": [
    "ordinal_categorical_features = ['WDK_ID', 'MAXSNELHD', 'ZAD_ID', 'LGD_ID']\n",
    "nominal_categorical_features = [feature for feature in X.columns if feature not in ordinal_categorical_features]\n",
    "\n",
    "\n",
    "nominal_categorical_transformer = Pipeline(steps=[\n",
    "    #('imputer', SimpleImputer(strategy='constant', fill_value='afwezig')),\n",
    "    ('encoder', OneHotEncoder(handle_unknown='ignore'))])\n",
    "\n",
    "ordinal_categorical_transformer = Pipeline(steps=[\n",
    "    #('imputer', SimpleImputer(strategy='constant', fill_value='afwezig')),\n",
    "    ('encoder', OrdinalEncoder())])\n",
    "\n",
    "preprocessor = ColumnTransformer(\n",
    "    transformers=[\n",
    "        ('cat_ordinal', ordinal_categorical_transformer, ordinal_categorical_features),\n",
    "        ('cat_nominal', nominal_categorical_transformer, nominal_categorical_features)\n",
    "    ])\n",
    "\n",
    "# Encode target values\n",
    "target_enc = LabelEncoder()\n",
    "target_enc.fit_transform(y)\n",
    "\n",
    "# Encode features\n",
    "# preprocessor.fit_transform(X)\n",
    "\n",
    "X_train, X_test, y_train, y_test = train_test_split(X, y, stratify=y, random_state=42)\n",
    "\n",
    "\n",
    "model = Pipeline([\n",
    "    ('preprocess', preprocessor),\n",
    "    ('classifier', RandomForestClassifier(random_state=42, verbose=1))\n",
    "])\n",
    "\n",
    "model.fit(X_train, y_train)\n",
    "\n",
    "# clf.fit(X_train, y_train)"
   ]
  },
  {
   "cell_type": "code",
   "execution_count": null,
   "id": "19b265d7",
   "metadata": {},
   "outputs": [],
   "source": []
  },
  {
   "cell_type": "markdown",
   "id": "a3b36031",
   "metadata": {},
   "source": [
    "# Data Visualisatie"
   ]
  },
  {
   "cell_type": "markdown",
   "id": "52571eb4",
   "metadata": {},
   "source": [
    "#### Frequenty plots per klasse"
   ]
  },
  {
   "cell_type": "code",
   "execution_count": null,
   "id": "fe27bf8c",
   "metadata": {},
   "outputs": [],
   "source": [
    "# def count_plot(df, columns, target):   \n",
    "#     fig, axs = plt.subplots(nrows=5, ncols=5, figsize=(30,50))\n",
    "#     for col, ax in zip(columns, axs.flatten()):\n",
    "#         g = sb.countplot(data=df, x = df[col], hue= df[target], ax=ax)\n",
    "#         g.set_yscale(\"log\")\n",
    "#         # Put a legend to the right side\n",
    "#         # g.legend(loc='center left', bbox_to_anchor=(1, 0.5))\n",
    "#         ax.tick_params(axis='x', rotation=55)\n",
    "#     fig.tight_layout()\n",
    "# #     margin = m/fig.gcf().get_size_inches()[0]\n",
    "# #     fig.gcf().subplots_adjust(left=margin, right=1.-margin)\n",
    "        \n",
    "# selectie = ['JAAR_VKL', 'ANTL_PTJ', 'AOL_ID', 'BEBKOM', 'OTE_ID',\n",
    "#              'IND_ALC', 'MAXSNELHD', 'WDK_ID', 'WGD_CODE_1', 'WGD_CODE_2',\n",
    "#              'WSE_ID', 'WVG_ID', 'WVL_ID', 'LGD_ID', 'ZAD_ID',\n",
    "#              'BZD_ID_IF1','BZD_ID_IF2', 'BZD_ID_TA1', 'BZD_ID_TA2', 'BZD_ID_VM1',\n",
    "#              'BZD_ID_VM2','BZD_ID_VM3', 'NIVEAUKOP', 'GME_NAAM', 'PVE_NAAM']"
   ]
  },
  {
   "cell_type": "code",
   "execution_count": null,
   "id": "b06cfea5",
   "metadata": {},
   "outputs": [],
   "source": [
    "# count_plot(df_TOTAAL, selectie, 'AP3_CODE')"
   ]
  },
  {
   "cell_type": "markdown",
   "id": "30848fb3",
   "metadata": {},
   "source": [
    "### Impute Missing Data\n",
    ">``We markeren de ontbrekende waarden als een losstaande categorie, hierdoor kunnen we een groot deel van de data nog steeds gebruiken``"
   ]
  },
  {
   "cell_type": "code",
   "execution_count": null,
   "id": "538a025a",
   "metadata": {},
   "outputs": [],
   "source": [
    "imputer = SimpleImputer(strategy='constant', fill_value='afwezig')\n",
    "features = pd.DataFrame(imputer.fit_transform(X), index=X.index, columns=X.columns)\n",
    "\n",
    "features.info()"
   ]
  },
  {
   "cell_type": "markdown",
   "id": "09549c32",
   "metadata": {},
   "source": [
    "### Feature Encoding\n",
    "\n",
    ">#### Ordinal Encoding\n",
    "> Bij ordinale encoding zijn er \n",
    ">> **WDK_ID**:\n",
    ">> - droog\n",
    ">> - nat\n",
    ">> - sneeuw/ijzel\n",
    ">\n",
    ">> **MAXSNELHD**:\n",
    ">> - 50 km/u\n",
    ">> - 60 km/u\n",
    ">> - 70 km/u\n",
    ">> - 80 km/u\n",
    ">> - 90 km/u\n",
    ">> - 100 km/u\n",
    ">> - 120 km/u\n",
    ">> - 130 km/u\n",
    "> \n",
    ">> **ZAD_ID**:\n",
    ">> - Onbeperkt (meer dan 200m)\n",
    ">> - Beperkt (tot 200m)\n",
    ">> - Ernstig beperkt (tot 50m)\n",
    "\n",
    ">> **LGD_ID**:\n",
    ">> - Daglicht\n",
    ">> - Schemer\n",
    ">> - Duisternis\n",
    "\n",
    "> #### One-Hot Encoding\n",
    ">> **De Rest**\n",
    ">> - ``De rest van de categorische waarden zijn discreet, dit betekend dat er geen relatie is tussen de variabelen``\n",
    ">> - ``Een One-Hot Encoding tranformeerd alle nominale categorische features naar binair, hierdoor krijgen we een heleboel nieuwe columnnen.``\n"
   ]
  }
 ],
 "metadata": {
  "kernelspec": {
   "display_name": "Python 3",
   "language": "python",
   "name": "python3"
  },
  "language_info": {
   "codemirror_mode": {
    "name": "ipython",
    "version": 3
   },
   "file_extension": ".py",
   "mimetype": "text/x-python",
   "name": "python",
   "nbconvert_exporter": "python",
   "pygments_lexer": "ipython3",
   "version": "3.7.10"
  }
 },
 "nbformat": 4,
 "nbformat_minor": 5
}
